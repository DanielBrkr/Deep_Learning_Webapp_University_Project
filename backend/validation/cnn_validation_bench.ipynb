{
 "cells": [
  {
   "cell_type": "code",
   "execution_count": null,
   "outputs": [],
   "source": [
    "import os\n",
    "import tensorflow as tf\n",
    "from matplotlib.backends.backend_pdf import PdfPages\n",
    "import matplotlib.pyplot as plt\n",
    "\n",
    "from pathlib import Path\n",
    "from backend.pre_processing.tf_datasplit_benchmarking import load_validation_test_ds\n",
    "from backend.helpers.cnn_helpers.cnn_performance_eval import run_test_eval_10, plot_test_validation_eval\n",
    "\n",
    "#os.environ[\"TF_CPP_MIN_LOG_LEVEL\"] = \"2\"\n",
    "from tensorflow import keras\n",
    "from keras import layers\n",
    "from livelossplot import PlotLossesKeras"
   ],
   "metadata": {
    "collapsed": false
   }
  },
  {
   "cell_type": "markdown",
   "source": [],
   "metadata": {
    "collapsed": false
   }
  },
  {
   "cell_type": "code",
   "execution_count": null,
   "outputs": [],
   "source": [
    "xception_input_size = (150, 150)\n",
    "resnet_input_size =(224,224)\n",
    "\n",
    "test_data_subfolder_string = Path(\"Deep_Data/test_img\")\n",
    "val_data_subfolder_string = Path(\"Deep_Data/train_img\")\n",
    "\n",
    "xception_test_ds, xception_active_learning_ds = load_validation_test_ds(xception_input_size, False, False, test_data_subfolder_string)"
   ],
   "metadata": {
    "collapsed": false,
    "pycharm": {
     "is_executing": true
    }
   }
  },
  {
   "cell_type": "markdown",
   "source": [
    "Loading the model under test, change the line accordingly"
   ],
   "metadata": {
    "collapsed": false
   }
  },
  {
   "cell_type": "code",
   "execution_count": null,
   "outputs": [],
   "source": [
    "model_under_test = tf.keras.models.load_model(model_path_xception)"
   ],
   "metadata": {
    "collapsed": false
   }
  },
  {
   "cell_type": "code",
   "execution_count": null,
   "outputs": [],
   "source": [
    "evaL_df = run_test_eval_10(model_under_test, xception_test_ds)\n",
    "\n",
    "evaL_df.describe()"
   ],
   "metadata": {
    "collapsed": false
   }
  },
  {
   "cell_type": "markdown",
   "source": [],
   "metadata": {
    "collapsed": false
   }
  },
  {
   "cell_type": "code",
   "execution_count": null,
   "outputs": [],
   "source": [
    "plot_test_validation_eval(eval_dataframe=evaL_df)"
   ],
   "metadata": {
    "collapsed": false
   }
  },
  {
   "cell_type": "markdown",
   "source": [
    "Eine Funktion zum Abspeichern von den Plots muss hier noch rein\n"
   ],
   "metadata": {
    "collapsed": false
   }
  }
 ],
 "metadata": {
  "kernelspec": {
   "display_name": "Python 3",
   "language": "python",
   "name": "python3"
  },
  "language_info": {
   "codemirror_mode": {
    "name": "ipython",
    "version": 2
   },
   "file_extension": ".py",
   "mimetype": "text/x-python",
   "name": "python",
   "nbconvert_exporter": "python",
   "pygments_lexer": "ipython2",
   "version": "2.7.6"
  }
 },
 "nbformat": 4,
 "nbformat_minor": 0
}
